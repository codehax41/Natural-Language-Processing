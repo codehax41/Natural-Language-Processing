{
 "cells": [
  {
   "cell_type": "code",
   "execution_count": null,
   "metadata": {},
   "outputs": [],
   "source": [
    "import spacy\n",
    "nlp=spacy.load('en_core_web_sm')\n",
    "with open('owlcreek.txt') as f:\n",
    "    doc=nlp(f.read())"
   ]
  },
  {
   "cell_type": "code",
   "execution_count": null,
   "metadata": {},
   "outputs": [],
   "source": [
    "len(doc)"
   ]
  },
  {
   "cell_type": "code",
   "execution_count": null,
   "metadata": {},
   "outputs": [],
   "source": [
    "#print no. of sentences\n",
    "doc_sentences = [sent for sent in doc.sents]\n",
    "len(doc_sentences)"
   ]
  },
  {
   "cell_type": "code",
   "execution_count": null,
   "metadata": {},
   "outputs": [],
   "source": [
    "#pint 2nd sent. in doc\n",
    "print(doc_sentences[2])"
   ]
  },
  {
   "cell_type": "code",
   "execution_count": null,
   "metadata": {},
   "outputs": [],
   "source": [
    "#print text,pos,tag,deb for each token\n",
    "for token in doc_sentences[2]:\n",
    "    print(f\"{token.text:{15}}{token.pos_:{5}}{token.dep_:{10}}{token.lemma_:{15}}\")"
   ]
  },
  {
   "cell_type": "code",
   "execution_count": null,
   "metadata": {},
   "outputs": [],
   "source": [
    "#match pattern swimming and swimming vigorously\n",
    "from spacy.matcher import Matcher\n",
    "matcher=Matcher(nlp.vocab)\n",
    "\n",
    "pattern=[{'LOWER':'swimming'},{'IS_SPACE':True,'OP':'*'},{'LOWER':'vigorously'}]\n",
    "matcher.add('Swim', None,pattern)\n",
    "found_matches=matcher(doc)\n",
    "print(found_matches)"
   ]
  },
  {
   "cell_type": "code",
   "execution_count": null,
   "metadata": {},
   "outputs": [],
   "source": [
    "#printing text surrounding each found match\n",
    "def surrounding(doc,start,end):\n",
    "    print(doc[start-5:end+5])\n",
    "surrounding(doc,1274,1277)"
   ]
  },
  {
   "cell_type": "code",
   "execution_count": null,
   "metadata": {},
   "outputs": [],
   "source": [
    "#printing entire sent surrounding each found match\n",
    "for sentence in doc_sentences:\n",
    "    if found_matches[0][1] < sentence.end:\n",
    "        print(sentence)\n",
    "        break"
   ]
  },
  {
   "cell_type": "code",
   "execution_count": null,
   "metadata": {},
   "outputs": [],
   "source": []
  }
 ],
 "metadata": {
  "kernelspec": {
   "display_name": "Python 3",
   "language": "python",
   "name": "python3"
  },
  "language_info": {
   "codemirror_mode": {
    "name": "ipython",
    "version": 3
   },
   "file_extension": ".py",
   "mimetype": "text/x-python",
   "name": "python",
   "nbconvert_exporter": "python",
   "pygments_lexer": "ipython3",
   "version": "3.6.5"
  }
 },
 "nbformat": 4,
 "nbformat_minor": 2
}
