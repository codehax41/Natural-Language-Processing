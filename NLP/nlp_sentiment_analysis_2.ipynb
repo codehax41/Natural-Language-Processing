{
 "cells": [
  {
   "cell_type": "code",
   "execution_count": 1,
   "metadata": {},
   "outputs": [],
   "source": [
    "import spacy\n",
    "nlp = spacy.load('en_core_web_lg')"
   ]
  },
  {
   "cell_type": "code",
   "execution_count": 5,
   "metadata": {},
   "outputs": [],
   "source": [
    "word1 = nlp.vocab['wolf'].vector\n",
    "word2 = nlp.vocab['dof'].vector\n",
    "word3 = nlp.vocab['cat'].vector\n",
    "\n",
    "from scipy import spatial\n",
    "cosine_sim=lambda x,y: 1 - spatial.distance.cosine(x,y)\n",
    "new_vector = word1 - word2 + word3"
   ]
  },
  {
   "cell_type": "code",
   "execution_count": 6,
   "metadata": {},
   "outputs": [
    {
     "data": {
      "text/plain": [
       "(300,)"
      ]
     },
     "execution_count": 6,
     "metadata": {},
     "output_type": "execute_result"
    }
   ],
   "source": [
    "new_vector.shape"
   ]
  },
  {
   "cell_type": "code",
   "execution_count": 7,
   "metadata": {},
   "outputs": [],
   "source": [
    "computed_sims=[]\n",
    "for word in nlp.vocab:\n",
    "    if word.has_vector:\n",
    "        if word.is_lower:\n",
    "            if word.is_alpha:\n",
    "                sim=cosine_sim(new_vector,word.vector)\n",
    "                computed_sims.append((word,sim))"
   ]
  },
  {
   "cell_type": "code",
   "execution_count": 8,
   "metadata": {},
   "outputs": [
    {
     "data": {
      "text/plain": [
       "['wolf',\n",
       " 'cat',\n",
       " 'dog',\n",
       " 'cats',\n",
       " 'kitten',\n",
       " 'lion',\n",
       " 'kitty',\n",
       " 'pet',\n",
       " 'rabbit',\n",
       " 'fox']"
      ]
     },
     "execution_count": 8,
     "metadata": {},
     "output_type": "execute_result"
    }
   ],
   "source": [
    "computed_sims=sorted(computed_sims,key=lambda iter:-iter[1])\n",
    "[w[0].text for w in computed_sims[:10]]"
   ]
  },
  {
   "cell_type": "code",
   "execution_count": 16,
   "metadata": {},
   "outputs": [],
   "source": [
    "#write a fn that takes 3 string, perform a-b+c  -\n",
    "#arithmetic and return top 10 result\n",
    "def vector_math(a,b,c):\n",
    "    word1=nlp.vocab[a].vector\n",
    "    word2=nlp.vocab[b].vector\n",
    "    word3=nlp.vocab[c].vector\n",
    "    \n",
    "    new_vector = word1 - word2 + word3\n",
    "    \n",
    "    computed_sims = []\n",
    "    \n",
    "    for word in nlp.vocab:\n",
    "        \n",
    "        if word.has_vector:\n",
    "            if word.is_lower:\n",
    "                if word.is_alpha:\n",
    "                    sim=cosine_sim(new_vector,word.vector)\n",
    "                    computed_sims.append((word,sim))   \n",
    "                    \n",
    "    computed_sims=sorted(computed_sims,key=lambda iter:-iter[1])\n",
    "    return [w[0].text for w in computed_sims[:10]]"
   ]
  },
  {
   "cell_type": "code",
   "execution_count": 17,
   "metadata": {},
   "outputs": [
    {
     "data": {
      "text/plain": [
       "['king',\n",
       " 'queen',\n",
       " 'prince',\n",
       " 'kings',\n",
       " 'princess',\n",
       " 'royal',\n",
       " 'throne',\n",
       " 'queens',\n",
       " 'monarch',\n",
       " 'kingdom']"
      ]
     },
     "execution_count": 17,
     "metadata": {},
     "output_type": "execute_result"
    }
   ],
   "source": [
    "vector_math('king','man','woman')"
   ]
  },
  {
   "cell_type": "code",
   "execution_count": 18,
   "metadata": {},
   "outputs": [],
   "source": [
    "#vader sentiment analysis on review\n",
    "from nltk.sentiment.vader import SentimentIntensityAnalyzer\n",
    "sid=SentimentIntensityAnalyzer()"
   ]
  },
  {
   "cell_type": "code",
   "execution_count": 19,
   "metadata": {},
   "outputs": [],
   "source": [
    "review='Ths movie was absolutely awful'"
   ]
  },
  {
   "cell_type": "code",
   "execution_count": 20,
   "metadata": {},
   "outputs": [
    {
     "data": {
      "text/plain": [
       "{'neg': 0.452, 'neu': 0.548, 'pos': 0.0, 'compound': -0.5095}"
      ]
     },
     "execution_count": 20,
     "metadata": {},
     "output_type": "execute_result"
    }
   ],
   "source": [
    "sid.polarity_scores(review)"
   ]
  },
  {
   "cell_type": "code",
   "execution_count": 23,
   "metadata": {},
   "outputs": [],
   "source": [
    "def review_rating(string):\n",
    "    score=sid.polarity_scores(string)\n",
    "    \n",
    "    if score['compound'] == 0:\n",
    "        return 'Neutral'\n",
    "    \n",
    "    if score['compound'] > 0:\n",
    "        return 'Positive'\n",
    "    \n",
    "    else:\n",
    "        return 'Negative'"
   ]
  },
  {
   "cell_type": "code",
   "execution_count": 24,
   "metadata": {},
   "outputs": [
    {
     "data": {
      "text/plain": [
       "'Negative'"
      ]
     },
     "execution_count": 24,
     "metadata": {},
     "output_type": "execute_result"
    }
   ],
   "source": [
    "review_rating(review)"
   ]
  },
  {
   "cell_type": "code",
   "execution_count": null,
   "metadata": {},
   "outputs": [],
   "source": []
  }
 ],
 "metadata": {
  "kernelspec": {
   "display_name": "Python 3",
   "language": "python",
   "name": "python3"
  },
  "language_info": {
   "codemirror_mode": {
    "name": "ipython",
    "version": 3
   },
   "file_extension": ".py",
   "mimetype": "text/x-python",
   "name": "python",
   "nbconvert_exporter": "python",
   "pygments_lexer": "ipython3",
   "version": "3.6.5"
  }
 },
 "nbformat": 4,
 "nbformat_minor": 2
}
