{
 "cells": [
  {
   "cell_type": "code",
   "execution_count": 24,
   "metadata": {},
   "outputs": [],
   "source": [
    "import spacy\n",
    "from spacy.matcher import Matcher\n",
    "\n",
    "nlp=spacy.load('en_core_web_sm')\n",
    "matcher=Matcher(nlp.vocab)"
   ]
  },
  {
   "cell_type": "code",
   "execution_count": 25,
   "metadata": {},
   "outputs": [],
   "source": [
    "#creating pattern\n",
    "\n",
    "#SolarPower\n",
    "pattern1=[{'LOWER':'solarpower'}]\n",
    "#Solar-power\n",
    "pattern2=[{'LOWER':'solar'},{'IS_PUNT':True},{'LOWER':'power'}]\n",
    "#solar power\n",
    "pattern3=[{'LOWER':'solar'},{'LOWER':'power'}]\n",
    "#solar -- power\n",
    "#pattern4=[{'LOWER':'solar'},{'IS_PUNT':True,'OP':'*'},{'LOWER':'power'}]\n",
    "matcher.add('SolarPower', None,pattern1,pattern2,pattern3)"
   ]
  },
  {
   "cell_type": "code",
   "execution_count": 26,
   "metadata": {},
   "outputs": [],
   "source": [
    "doc=nlp(u\"The Solar Power industry continues to grow a solarpower increases. Solar-power is amazing. \")"
   ]
  },
  {
   "cell_type": "code",
   "execution_count": 27,
   "metadata": {},
   "outputs": [
    {
     "name": "stdout",
     "output_type": "stream",
     "text": [
      "[(8656102463236116519, 1, 3), (8656102463236116519, 8, 9), (8656102463236116519, 11, 14)]\n"
     ]
    }
   ],
   "source": [
    "found_matches=matcher(doc)\n",
    "print(found_matches)"
   ]
  },
  {
   "cell_type": "code",
   "execution_count": 28,
   "metadata": {},
   "outputs": [
    {
     "name": "stdout",
     "output_type": "stream",
     "text": [
      "8656102463236116519 SolarPower 1 3 Solar Power\n",
      "8656102463236116519 SolarPower 8 9 solarpower\n",
      "8656102463236116519 SolarPower 11 14 Solar-power\n"
     ]
    }
   ],
   "source": [
    "for match_id,start,end in found_matches:\n",
    "    string_id=nlp.vocab.strings[match_id]\n",
    "    span=doc[start:end]\n",
    "    print(match_id,string_id,start,end,span.text)"
   ]
  },
  {
   "cell_type": "code",
   "execution_count": 32,
   "metadata": {},
   "outputs": [],
   "source": [
    "from spacy.matcher import PhraseMatcher\n",
    "matcher=PhraseMatcher(nlp.vocab)\n",
    "with open('reaganomics.txt') as f:\n",
    "    doc3=nlp(f.read())"
   ]
  },
  {
   "cell_type": "code",
   "execution_count": 42,
   "metadata": {},
   "outputs": [],
   "source": [
    "phrase_list=['voodo economics','supply-side economics','trickle-down economics',\n",
    "            'free-market economics']\n",
    "phrase_patterns=[nlp(text) for text in phrase_list]\n",
    "matcher.add('Econ',None,*phrase_patterns)"
   ]
  },
  {
   "cell_type": "code",
   "execution_count": 43,
   "metadata": {},
   "outputs": [
    {
     "data": {
      "text/plain": [
       "[(10177717378747211773, 41, 45),\n",
       " (10177717378747211773, 49, 53),\n",
       " (10177717378747211773, 61, 65),\n",
       " (10177717378747211773, 673, 677),\n",
       " (10177717378747211773, 2985, 2989)]"
      ]
     },
     "execution_count": 43,
     "metadata": {},
     "output_type": "execute_result"
    }
   ],
   "source": [
    "found_matches=matcher(doc3)\n",
    "found_matches"
   ]
  },
  {
   "cell_type": "code",
   "execution_count": 45,
   "metadata": {},
   "outputs": [
    {
     "name": "stdout",
     "output_type": "stream",
     "text": [
      "10177717378747211773 Econ 41 45 supply-side economics\n",
      "10177717378747211773 Econ 49 53 trickle-down economics\n",
      "10177717378747211773 Econ 61 65 free-market economics\n",
      "10177717378747211773 Econ 673 677 supply-side economics\n",
      "10177717378747211773 Econ 2985 2989 trickle-down economics\n"
     ]
    }
   ],
   "source": [
    "for match_id,start,end in found_matches:\n",
    "    string_id=nlp.vocab.strings[match_id]\n",
    "    span=doc3[start:end] #or start-5:end+5 gives foward and back elements also\n",
    "    print(match_id,string_id,start,end,span.text)"
   ]
  },
  {
   "cell_type": "code",
   "execution_count": null,
   "metadata": {},
   "outputs": [],
   "source": []
  }
 ],
 "metadata": {
  "kernelspec": {
   "display_name": "Python 3",
   "language": "python",
   "name": "python3"
  },
  "language_info": {
   "codemirror_mode": {
    "name": "ipython",
    "version": 3
   },
   "file_extension": ".py",
   "mimetype": "text/x-python",
   "name": "python",
   "nbconvert_exporter": "python",
   "pygments_lexer": "ipython3",
   "version": "3.6.5"
  }
 },
 "nbformat": 4,
 "nbformat_minor": 2
}
